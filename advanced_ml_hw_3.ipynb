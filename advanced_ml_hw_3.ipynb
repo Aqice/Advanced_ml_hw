{
 "cells": [
  {
   "cell_type": "code",
   "execution_count": 1,
   "metadata": {},
   "outputs": [],
   "source": [
    "import pandas as pd\n",
    "import numpy as np\n",
    "import matplotlib.pyplot as plt\n",
    "import seaborn as sns\n",
    "from tqdm import tqdm"
   ]
  },
  {
   "cell_type": "code",
   "execution_count": 2,
   "metadata": {},
   "outputs": [],
   "source": [
    "from sklearn.preprocessing import OneHotEncoder\n",
    "from sklearn.linear_model import LogisticRegression, LogisticRegressionCV\n",
    "from sklearn.metrics import log_loss\n",
    "from scipy import sparse\n",
    "from scipy.special import expit as sigmoid\n",
    "import scipy.stats as sts\n",
    "from IPython.display import Image"
   ]
  },
  {
   "cell_type": "code",
   "execution_count": 4,
   "metadata": {},
   "outputs": [],
   "source": [
    "from datetime import timedelta, datetime\n",
    "import pickle\n",
    "import json\n",
    "import gc\n",
    "from copy import copy, deepcopy\n",
    "from collections import defaultdict, Counter\n",
    "import requests"
   ]
  },
  {
   "cell_type": "code",
   "execution_count": 7,
   "metadata": {},
   "outputs": [],
   "source": [
    "with open('results.pkl', 'rb') as file:\n",
    "    results = pickle.load(file)\n",
    "    \n",
    "with open('tournaments.pkl', 'rb') as file:\n",
    "    tournaments = pickle.load(file)"
   ]
  },
  {
   "cell_type": "markdown",
   "metadata": {},
   "source": [
    "### EDA"
   ]
  },
  {
   "cell_type": "code",
   "execution_count": 8,
   "metadata": {},
   "outputs": [],
   "source": [
    "date_train_start = datetime.strptime('2019-01-01', '%Y-%m-%d')\n",
    "date_val_start = datetime.strptime('2020-01-01', '%Y-%m-%d')\n"
   ]
  },
  {
   "cell_type": "code",
   "execution_count": 9,
   "metadata": {},
   "outputs": [
    {
     "name": "stderr",
     "output_type": "stream",
     "text": [
      "                                                      \r"
     ]
    }
   ],
   "source": [
    "tournaments_train = []\n",
    "tournaments_val = []\n",
    "\n",
    "max_player_id = 0\n",
    "max_team_id = 0\n",
    "\n",
    "for key in tqdm(tournaments.keys(), position=0, leave=False):\n",
    "    tournament_date = datetime.fromisoformat(tournaments[key]['dateStart']).replace(tzinfo=None)\n",
    "    if tournament_date >= date_train_start:\n",
    "        if not results[key]:\n",
    "            continue\n",
    "\n",
    "        total_questions = set()\n",
    "        for team in results[key]:\n",
    "            if team.get('mask') is not None:\n",
    "                total_questions.add(len(team['mask']))\n",
    "\n",
    "        if len(total_questions) > 1:\n",
    "            continue\n",
    "        tournament = dict()\n",
    "        tournament['id'] = tournaments[key]['id']\n",
    "        tournament['teams'] = []\n",
    "        \n",
    "        \n",
    "        for team in results[key]:\n",
    "            if team.get('mask') is None or team.get('mask').replace('1', '').replace('0', ''):\n",
    "                continue\n",
    "                \n",
    "            if team['team']['id'] > max_team_id:\n",
    "                max_team_id = team['team']['id']\n",
    "            \n",
    "            team_dict = dict()\n",
    "            team_dict['id'] = team['team']['id']\n",
    "            team_dict['mask'] = team['mask']\n",
    "            team_dict['members'] = []\n",
    "            \n",
    "            for member in team['teamMembers']:\n",
    "                \n",
    "                player_id = member['player']['id']\n",
    "                if player_id > max_player_id:\n",
    "                    max_player_id = player_id\n",
    "                    \n",
    "                team_dict['members'].append(player_id)\n",
    "                \n",
    "            tournament['teams'].append(team_dict)\n",
    "        \n",
    "        if not tournament['teams']:\n",
    "            continue\n",
    "        if tournament_date < date_val_start:\n",
    "            tournaments_train.append(tournament)\n",
    "        else:\n",
    "            tournaments_val.append(tournament)"
   ]
  },
  {
   "cell_type": "code",
   "execution_count": 10,
   "metadata": {},
   "outputs": [],
   "source": [
    "with open('tournaments_train.json', 'w') as file:\n",
    "    json.dump(tournaments_train, file)\n",
    "    \n",
    "with open('tournaments_val.json', 'w') as file:\n",
    "    json.dump(tournaments_val, file)"
   ]
  },
  {
   "cell_type": "code",
   "execution_count": 12,
   "metadata": {},
   "outputs": [],
   "source": [
    "with open('players.pkl', 'rb') as file:\n",
    "    players = pickle.load(file)"
   ]
  },
  {
   "cell_type": "code",
   "execution_count": null,
   "metadata": {},
   "outputs": [],
   "source": []
  },
  {
   "cell_type": "code",
   "execution_count": 21,
   "metadata": {},
   "outputs": [],
   "source": [
    "members = defaultdict(set)\n",
    "questions_counts = []\n",
    "difficulty = []\n",
    "questions_ratio = []\n",
    "team_count_for_member = []\n",
    "\n",
    "\n",
    "for tournament in tournaments_train:\n",
    "    tournament_answers = []\n",
    "    for team in tournament['teams']:\n",
    "        team_answers = list(map(int, team['mask']))\n",
    "        questions_count = len(team_answers)\n",
    "        correct_answers = sum(team_answers)\n",
    "        tournament_answers.append(team_answers)\n",
    "    \n",
    "\n",
    "        \n",
    "        for member in team['members']:\n",
    "            members[member].add(tournament['id'])\n",
    "    \n",
    "    questions_counts.append(questions_count)  \n",
    "    difficulty += (1 - np.array(tournament_answers).mean(axis=0)).tolist()\n",
    "    questions_ratio += np.array(tournament_answers).mean(axis=0).tolist()\n",
    "    \n",
    "for member, teams in members.items():\n",
    "    team_count_for_member.append(len(teams))\n"
   ]
  },
  {
   "cell_type": "code",
   "execution_count": 22,
   "metadata": {},
   "outputs": [
    {
     "data": {
      "text/plain": [
       "<matplotlib.axes._subplots.AxesSubplot at 0x1a7dae28d0>"
      ]
     },
     "execution_count": 22,
     "metadata": {},
     "output_type": "execute_result"
    },
    {
     "data": {
      "image/png": "[encoded data removed]",
      "text/plain": [
       "<Figure size 432x288 with 1 Axes>"
      ]
     },
     "metadata": {
      "needs_background": "light"
     },
     "output_type": "display_data"
    }
   ],
   "source": [
    "plt.title('number of teams per player')\n",
    "sns.distplot(team_count_for_member)"
   ]
  },
  {
   "cell_type": "code",
   "execution_count": 24,
   "metadata": {},
   "outputs": [
    {
     "data": {
      "text/plain": [
       "<matplotlib.axes._subplots.AxesSubplot at 0x1a7c9736d0>"
      ]
     },
     "execution_count": 24,
     "metadata": {},
     "output_type": "execute_result"
    },
    {
     "data": {
      "image/png": "[encoded data removed]",
      "text/plain": [
       "<Figure size 432x288 with 1 Axes>"
      ]
     },
     "metadata": {
      "needs_background": "light"
     },
     "output_type": "display_data"
    }
   ],
   "source": [
    "plt.title('ration of correct answers')\n",
    "sns.distplot(questions_ratio)"
   ]
  },
  {
   "cell_type": "code",
   "execution_count": 23,
   "metadata": {},
   "outputs": [
    {
     "data": {
      "text/plain": [
       "<matplotlib.axes._subplots.AxesSubplot at 0x1a7e0f1890>"
      ]
     },
     "execution_count": 23,
     "metadata": {},
     "output_type": "execute_result"
    },
    {
     "data": {
      "image/png": "[encoded data removed]",
      "text/plain": [
       "<Figure size 432x288 with 1 Axes>"
      ]
     },
     "metadata": {
      "needs_background": "light"
     },
     "output_type": "display_data"
    }
   ],
   "source": [
    "plt.title('number of questions per game')\n",
    "sns.distplot(questions_counts)"
   ]
  },
  {
   "cell_type": "code",
   "execution_count": 25,
   "metadata": {},
   "outputs": [],
   "source": [
    "members = set()\n",
    "member_answers = defaultdict(int)\n",
    "member_right_answers = defaultdict(int)\n",
    "member_tours = defaultdict(int)\n",
    "\n",
    "for tournament in tournaments_train:\n",
    "    tournament_answers = []\n",
    "    for team in tournament['teams']:\n",
    "        for member in team['members']:\n",
    "            member_answers[member] += len(team['mask'])\n",
    "            member_right_answers[member] = sum(list(map(int, team['mask'])))\n",
    "            member_tours[member] += 1\n",
    "            members.add(member)\n",
    "        \n",
    "\n",
    "member_to_idx = {member: idx for idx, member in enumerate(members)}\n",
    "idx_to_members = {idx: member for member, idx in member_to_idx.items()}"
   ]
  },
  {
   "cell_type": "code",
   "execution_count": 27,
   "metadata": {},
   "outputs": [],
   "source": [
    "member_idxs = []\n",
    "question_idxs = []\n",
    "team_ids = []\n",
    "tournament_ids = []\n",
    "results = []\n",
    "member_questions_count = []\n",
    "\n",
    "questions_count = 0\n",
    "for tournament in tournaments_train:\n",
    "    tour_questions_count = len(tournament['teams'][0]['mask'])\n",
    "    for team in tournament['teams']:\n",
    "        team_answers = list(map(int, team['mask']))\n",
    "        for q in range(tour_questions_count):\n",
    "            for member in team['members']:\n",
    "                member_idxs.append(member_to_idx[member])\n",
    "                question_idxs.append(len(member_to_idx) + questions_count + q)\n",
    "                team_ids.append(team['id'])\n",
    "                tournament_ids.append(tournament['id'])\n",
    "                results.append(team_answers[q])\n",
    "                member_questions_count.append(member_answers[member])\n",
    "    questions_count += tour_questions_count\n",
    "    "
   ]
  },
  {
   "cell_type": "code",
   "execution_count": 28,
   "metadata": {},
   "outputs": [],
   "source": [
    "X = sparse.lil_matrix((len(member_idxs), len(member_to_idx) + questions_count),  dtype=int)\n",
    "X[range(len(member_idxs)), member_idxs] = 1\n",
    "X[range(len(member_idxs)), question_idxs] = 1\n",
    "y = np.array(results)"
   ]
  },
  {
   "cell_type": "code",
   "execution_count": 29,
   "metadata": {},
   "outputs": [
    {
     "data": {
      "text/plain": [
       "Text(0.5, 1.0, 'Number of tournaments for players')"
      ]
     },
     "execution_count": 29,
     "metadata": {},
     "output_type": "execute_result"
    },
    {
     "data": {
      "image/png": "[encoded data removed]",
      "text/plain": [
       "<Figure size 432x288 with 1 Axes>"
      ]
     },
     "metadata": {
      "needs_background": "light"
     },
     "output_type": "display_data"
    }
   ],
   "source": [
    "sns.distplot(list(member_tours.values()))\n",
    "plt.title('Number of tournaments for players')"
   ]
  },
  {
   "cell_type": "code",
   "execution_count": 30,
   "metadata": {},
   "outputs": [
    {
     "data": {
      "text/plain": [
       "Text(0.5, 1.0, 'Number of questions for players')"
      ]
     },
     "execution_count": 30,
     "metadata": {},
     "output_type": "execute_result"
    },
    {
     "data": {
      "image/png": "[encoded data removed]",
      "text/plain": [
       "<Figure size 432x288 with 1 Axes>"
      ]
     },
     "metadata": {
      "needs_background": "light"
     },
     "output_type": "display_data"
    }
   ],
   "source": [
    "sns.distplot(list(member_answers.values()))\n",
    "plt.title('Number of questions for players')"
   ]
  },
  {
   "cell_type": "code",
   "execution_count": 31,
   "metadata": {},
   "outputs": [
    {
     "data": {
      "text/plain": [
       "Text(0.5, 1.0, 'Number of correct questions for players')"
      ]
     },
     "execution_count": 31,
     "metadata": {},
     "output_type": "execute_result"
    },
    {
     "data": {
      "image/png": "[encoded data removed]",
      "text/plain": [
       "<Figure size 432x288 with 1 Axes>"
      ]
     },
     "metadata": {
      "needs_background": "light"
     },
     "output_type": "display_data"
    }
   ],
   "source": [
    "sns.distplot(list(member_right_answers.values()))\n",
    "plt.title('Number of correct questions for players')"
   ]
  },
  {
   "cell_type": "markdown",
   "metadata": {},
   "source": [
    "### Baseline"
   ]
  },
  {
   "cell_type": "code",
   "execution_count": 32,
   "metadata": {},
   "outputs": [],
   "source": [
    "model = LogisticRegression()"
   ]
  },
  {
   "cell_type": "code",
   "execution_count": 34,
   "metadata": {},
   "outputs": [
    {
     "name": "stderr",
     "output_type": "stream",
     "text": [
      "/Users/aqice/opt/anaconda3/lib/python3.7/site-packages/sklearn/linear_model/logistic.py:432: FutureWarning: Default solver will be changed to 'lbfgs' in 0.22. Specify a solver to silence this warning.\n",
      "  FutureWarning)\n"
     ]
    },
    {
     "data": {
      "text/plain": [
       "LogisticRegression(C=1.0, class_weight=None, dual=False, fit_intercept=True,\n",
       "                   intercept_scaling=1, l1_ratio=None, max_iter=100,\n",
       "                   multi_class='warn', n_jobs=None, penalty='l2',\n",
       "                   random_state=None, solver='warn', tol=0.0001, verbose=0,\n",
       "                   warm_start=False)"
      ]
     },
     "execution_count": 34,
     "metadata": {},
     "output_type": "execute_result"
    }
   ],
   "source": [
    "model.fit(X, y)"
   ]
  },
  {
   "cell_type": "code",
   "execution_count": 46,
   "metadata": {},
   "outputs": [],
   "source": [
    "def get_position(index):\n",
    "    url = f'https://rating.chgk.info/api/players/{index}/rating/last'\n",
    "    try:\n",
    "        position = requests.get(url).json()['rating_position']\n",
    "        position = int(position)\n",
    "    except Exception as e:\n",
    "        return np.nan\n",
    "    \n",
    "    return position"
   ]
  },
  {
   "cell_type": "code",
   "execution_count": 37,
   "metadata": {},
   "outputs": [],
   "source": [
    "rating = model.coef_[0][:len(member_to_idx)]\n",
    "rating_list = []\n",
    "for idx, member in idx_to_members.items():\n",
    "    item = {\n",
    "        'score': rating[idx],\n",
    "        'id': member,\n",
    "        'name': players[member]['name'] + ' ' + players[member]['surname'],\n",
    "        'questions_count': member_answers[member],\n",
    "    }\n",
    "    rating_list.append(item)\n",
    "    "
   ]
  },
  {
   "cell_type": "markdown",
   "metadata": {},
   "source": [
    "#### Top 100 players"
   ]
  },
  {
   "cell_type": "code",
   "execution_count": 87,
   "metadata": {},
   "outputs": [],
   "source": [
    "sorted_rating = sorted(rating_list, key=lambda x: x['score'], reverse=True)\n",
    "\n",
    "rating_all = pd.DataFrame(sorted_rating)\n",
    "rating_all['pred_pos'] = rating_all.index + 1\n",
    "rating = rating_all.loc[:100]"
   ]
  },
  {
   "cell_type": "code",
   "execution_count": 88,
   "metadata": {},
   "outputs": [
    {
     "name": "stderr",
     "output_type": "stream",
     "text": [
      "/Users/aqice/opt/anaconda3/lib/python3.7/site-packages/ipykernel_launcher.py:1: SettingWithCopyWarning: \n",
      "A value is trying to be set on a copy of a slice from a DataFrame.\n",
      "Try using .loc[row_indexer,col_indexer] = value instead\n",
      "\n",
      "See the caveats in the documentation: http://pandas.pydata.org/pandas-docs/stable/user_guide/indexing.html#returning-a-view-versus-a-copy\n",
      "  \"\"\"Entry point for launching an IPython kernel.\n"
     ]
    }
   ],
   "source": [
    "rating['actual_position'] = rating['id'].apply(get_position)"
   ]
  },
  {
   "cell_type": "code",
   "execution_count": 89,
   "metadata": {},
   "outputs": [
    {
     "data": {
      "text/plain": [
       "(55, 6)"
      ]
     },
     "execution_count": 89,
     "metadata": {},
     "output_type": "execute_result"
    }
   ],
   "source": [
    "rating[rating['actual_position'] <= 100].dropna().shape"
   ]
  },
  {
   "cell_type": "markdown",
   "metadata": {},
   "source": [
    "Recall@100 for top is 55% players - not bad (without nans from api)"
   ]
  },
  {
   "cell_type": "code",
   "execution_count": 90,
   "metadata": {},
   "outputs": [
    {
     "name": "stderr",
     "output_type": "stream",
     "text": [
      "/Users/aqice/opt/anaconda3/lib/python3.7/site-packages/ipykernel_launcher.py:2: SettingWithCopyWarning: \n",
      "A value is trying to be set on a copy of a slice from a DataFrame.\n",
      "Try using .loc[row_indexer,col_indexer] = value instead\n",
      "\n",
      "See the caveats in the documentation: http://pandas.pydata.org/pandas-docs/stable/user_guide/indexing.html#returning-a-view-versus-a-copy\n",
      "  \n"
     ]
    },
    {
     "data": {
      "text/html": [
       "<div>\n",
       "<style scoped>\n",
       "    .dataframe tbody tr th:only-of-type {\n",
       "        vertical-align: middle;\n",
       "    }\n",
       "\n",
       "    .dataframe tbody tr th {\n",
       "        vertical-align: top;\n",
       "    }\n",
       "\n",
       "    .dataframe thead th {\n",
       "        text-align: right;\n",
       "    }\n",
       "</style>\n",
       "<table border=\"1\" class=\"dataframe\">\n",
       "  <thead>\n",
       "    <tr style=\"text-align: right;\">\n",
       "      <th></th>\n",
       "      <th>score</th>\n",
       "      <th>id</th>\n",
       "      <th>name</th>\n",
       "      <th>questions_count</th>\n",
       "      <th>pred_pos</th>\n",
       "      <th>actual_position</th>\n",
       "    </tr>\n",
       "  </thead>\n",
       "  <tbody>\n",
       "    <tr>\n",
       "      <td>9</td>\n",
       "      <td>3.538993</td>\n",
       "      <td>22799</td>\n",
       "      <td>Сергей Николенко</td>\n",
       "      <td>1806</td>\n",
       "      <td>10</td>\n",
       "      <td>10</td>\n",
       "    </tr>\n",
       "  </tbody>\n",
       "</table>\n",
       "</div>"
      ],
      "text/plain": [
       "      score     id              name  questions_count  pred_pos  \\\n",
       "9  3.538993  22799  Сергей Николенко             1806        10   \n",
       "\n",
       "   actual_position  \n",
       "9               10  "
      ]
     },
     "execution_count": 90,
     "metadata": {},
     "output_type": "execute_result"
    }
   ],
   "source": [
    "rating_boss = rating_all[rating_all['name'] == 'Сергей Николенко']\n",
    "rating_boss['actual_position'] = rating_boss['id'].apply(get_position)\n",
    "rating_boss"
   ]
  },
  {
   "cell_type": "markdown",
   "metadata": {},
   "source": [
    "bingo!"
   ]
  },
  {
   "cell_type": "code",
   "execution_count": 83,
   "metadata": {},
   "outputs": [
    {
     "data": {
      "text/plain": [
       "3.538993032677846"
      ]
     },
     "execution_count": 83,
     "metadata": {},
     "output_type": "execute_result"
    }
   ],
   "source": [
    "rating_boss['score'].values[0]"
   ]
  },
  {
   "cell_type": "code",
   "execution_count": 84,
   "metadata": {},
   "outputs": [
    {
     "data": {
      "text/plain": [
       "<matplotlib.legend.Legend at 0x1aed219510>"
      ]
     },
     "execution_count": 84,
     "metadata": {},
     "output_type": "execute_result"
    },
    {
     "data": {
      "image/png": "[encoded data removed]",
      "text/plain": [
       "<Figure size 432x288 with 1 Axes>"
      ]
     },
     "metadata": {
      "needs_background": "light"
     },
     "output_type": "display_data"
    }
   ],
   "source": [
    "sns.distplot(rating_all['score'])\n",
    "plt.plot([rating_boss['score'].values[0]] * 2, [0, 0.25], label='Nikolenko pred rating')\n",
    "plt.legend()"
   ]
  },
  {
   "cell_type": "markdown",
   "metadata": {},
   "source": [
    "### Predict new tournament on test"
   ]
  },
  {
   "cell_type": "code",
   "execution_count": 91,
   "metadata": {},
   "outputs": [],
   "source": [
    "tournaments_test = []\n",
    "tournaments_rating_true = []\n",
    "\n",
    "for tournament in tournaments_val:\n",
    "    teams_test = []\n",
    "    teams_rating = []\n",
    "    for team in tournament['teams']:\n",
    "  \n",
    "        memebers = [member for member in team['members'] if member in member_to_idx.keys()]\n",
    "        team_test = copy(team)\n",
    "        team_test['members'] = memebers\n",
    "        \n",
    "        if len(memebers) > 0:\n",
    "            teams_test.append(team_test)\n",
    "            team_answers = list(map(int, team['mask']))\n",
    "            team_score = sum(team_answers)\n",
    "            teams_rating.append(team_score)\n",
    "     \n",
    "    if len(teams_test) > 1:\n",
    "        tournament_test = copy(tournament)\n",
    "        tournament_test['teams'] = teams_test\n",
    "        tournaments_test.append(tournament_test)\n",
    "        tournaments_rating_true.append(teams_rating)"
   ]
  },
  {
   "cell_type": "code",
   "execution_count": 110,
   "metadata": {},
   "outputs": [],
   "source": [
    "def predict_tournaments(model, tournaments, member_to_idx, matrix_dim_1):\n",
    "    tournaments_rating_pred = []\n",
    "    for tournament in tournaments:\n",
    "        tournament_questions_count = len(tournament['teams'][0]['mask'])\n",
    "        preds = []\n",
    "        for team in tournament['teams']:\n",
    "            member_idxs = [member_to_idx[member] for member in team['members']]\n",
    "            members_count = len(member_idxs)\n",
    " \n",
    "            X = sparse.lil_matrix((members_count, matrix_dim_1), dtype=int)\n",
    "            X[range(len(member_idxs)), member_idxs] = 1\n",
    "        \n",
    "            fail_probas = model.predict_proba(X)[:, 0]\n",
    "            team_proba = 1 - fail_probas.prod() \n",
    "            preds.append(team_proba)\n",
    "\n",
    "        tournaments_rating_pred.append(preds)\n",
    "    return tournaments_rating_pred"
   ]
  },
  {
   "cell_type": "code",
   "execution_count": 111,
   "metadata": {},
   "outputs": [],
   "source": [
    "def get_correlations(tournaments_rating_true, tournaments_rating_pred):\n",
    "\n",
    "    spearmanr_corrs = []\n",
    "    kendall_corrs = []\n",
    "    for i in range(len(tournaments_rating_true)):\n",
    "        spearman = sts.spearmanr(tournaments_rating_true[i], tournaments_rating_pred[i]).correlation\n",
    "        kendall = sts.kendalltau(tournaments_rating_true[i], tournaments_rating_pred[i]).correlation\n",
    "        spearmanr_corrs.append(spearman)\n",
    "        kendall_corrs.append(kendall)\n",
    "\n",
    "    return np.mean(spearmanr_corrs), np.mean(kendall_corrs)\n"
   ]
  },
  {
   "cell_type": "code",
   "execution_count": 112,
   "metadata": {},
   "outputs": [],
   "source": [
    "tournaments_rating_pred = predict_tournaments(\n",
    "    model=model, \n",
    "    tournaments=tournaments_test,\n",
    "    member_to_idx=member_to_idx, \n",
    "    matrix_dim_1=X.shape[1]\n",
    ")"
   ]
  },
  {
   "cell_type": "code",
   "execution_count": 113,
   "metadata": {},
   "outputs": [],
   "source": [
    "spearman, kendall = get_correlations(tournaments_rating_true, tournaments_rating_pred)"
   ]
  },
  {
   "cell_type": "code",
   "execution_count": 114,
   "metadata": {},
   "outputs": [
    {
     "name": "stdout",
     "output_type": "stream",
     "text": [
      "spearman corr 0.8026041850130352\n",
      "kendall corr 0.644746457417624\n"
     ]
    }
   ],
   "source": [
    "print('spearman corr', spearman)\n",
    "print('kendall corr', kendall)"
   ]
  },
  {
   "cell_type": "markdown",
   "metadata": {},
   "source": []
  },
  {
   "cell_type": "code",
   "execution_count": null,
   "metadata": {},
   "outputs": [],
   "source": []
  },
  {
   "cell_type": "code",
   "execution_count": 124,
   "metadata": {},
   "outputs": [],
   "source": [
    "class LogRegProb:\n",
    "    def __init__(self, init_classifier=None):\n",
    "        if init_classifier:\n",
    "            self.w = np.hstack((init_classifier.intercept_, init_classifier.coef_[0]))\n",
    "        else:\n",
    "            self.w = None\n",
    "        \n",
    "    def fit(self, X, y, max_iters=1000, lr=10, batch_size=1000, tol=0.00001):\n",
    "        X = sparse.hstack([np.ones(len(y)).reshape(-1, 1), X], format='csr')\n",
    "        if self.w is None:\n",
    "            self.w = np.random.normal(size=X.shape[1])\n",
    "            \n",
    "        losses = []\n",
    "        prev_mean_loss = np.inf\n",
    "        \n",
    "        data_len = X.shape[0]\n",
    "        \n",
    "        for i in range(max_iters):\n",
    "            batch_idxs = np.random.choice(data_len, batch_size)\n",
    "            X_batch = X[batch_idxs, :]\n",
    "            y_batch = y[batch_idxs]\n",
    "            preds = sigmoid(X_batch.dot(self.w))\n",
    "            losses.append(self.log_loss(y_batch, preds))\n",
    "            if (i + 1) % 1000 == 0:\n",
    "                new_mean_loss = np.mean(losses)\n",
    "                if (prev_mean_loss - new_mean_loss) < tol:\n",
    "                    break\n",
    "                losses = []\n",
    "                prev_mean_loss = new_mean_loss\n",
    "\n",
    "            grad = -X_batch.T.dot(y_batch - preds) / len(y_batch)\n",
    "            self.w -= lr * grad \n",
    "    def predict_proba(self, X):\n",
    "        X = sparse.hstack([np.ones(X.shape[0]).reshape(-1, 1), X])\n",
    "        preds = sigmoid(X.dot(self.w))\n",
    "        return np.hstack(((1 - preds).reshape(-1, 1), preds.reshape(-1, 1)))\n",
    "    \n",
    "    @staticmethod\n",
    "    def log_loss(y, p):\n",
    "        return -np.mean(y * np.log(p) + (1 - y) * np.log(1 - p))\n",
    "    \n",
    "    \n"
   ]
  },
  {
   "cell_type": "code",
   "execution_count": 130,
   "metadata": {},
   "outputs": [],
   "source": [
    "def get_calculated_label_prob(team_ids, question_idxs, preds):\n",
    "    df_team = pd.DataFrame({'team': team_ids, 'question': question_idxs, 'fail_pred': preds[:, 0], 'success_pred': preds[:, 1]})\n",
    "    df_team_pis = df_team.groupby(['team', 'question']).agg({'fail_pred': 'prod'}).reset_index()\n",
    "    df_team_pis['team_success_pred'] = 1 - df_team_pis['fail_pred']\n",
    "    df_team_pis.drop(columns=['fail_pred'], inplace=True)\n",
    "    df_team = pd.merge(df_team, df_team_pis, left_on=['team', 'question'],  right_on=['team', 'question'])\n",
    "    z = (df_team['success_pred'] / df_team['team_success_pred']).clip(0, 1)\n",
    "\n",
    "    z[y == 0] = 0\n",
    "\n",
    "    return z\n"
   ]
  },
  {
   "cell_type": "code",
   "execution_count": 131,
   "metadata": {},
   "outputs": [
    {
     "name": "stdout",
     "output_type": "stream",
     "text": [
      "1 out of 10\n",
      "2 out of 10\n",
      "3 out of 10\n",
      "4 out of 10\n",
      "5 out of 10\n",
      "6 out of 10\n",
      "7 out of 10\n",
      "8 out of 10\n",
      "9 out of 10\n",
      "10 out of 10\n"
     ]
    }
   ],
   "source": [
    "spearman_corrs = []\n",
    "kendall_corrs = []\n",
    "\n",
    "model_prob = LogRegProb(init_classifier=model)\n",
    "\n",
    "tournaments_rating_pred = predict_tournaments(\n",
    "    model=model_prob, \n",
    "    tournaments=tournaments_test,\n",
    "    member_to_idx=member_to_idx, \n",
    "    matrix_dim_1=X.shape[1]\n",
    ")\n",
    "spearman, kendall = get_correlations(tournaments_rating_true, tournaments_rating_pred)\n",
    "\n",
    "spearman_corrs.append(spearman)\n",
    "kendall_corrs.append(kendall)\n",
    "\n",
    "n = 10\n",
    "\n",
    "for i in range(n):\n",
    "\n",
    "    # E-step\n",
    "    preds = model_prob.predict_proba(X)\n",
    "\n",
    "    label_probs = get_calculated_label_prob(team_ids, question_idxs, preds)\n",
    "    \n",
    "    \n",
    "    # M-step\n",
    "    model_prob.fit(X, label_probs)\n",
    "\n",
    "    tournaments_rating_pred = predict_tournaments(\n",
    "        model=model_prob, \n",
    "        tournaments=tournaments_test,\n",
    "        member_to_idx=member_to_idx, \n",
    "        matrix_dim_1=X.shape[1]\n",
    "    )\n",
    "    \n",
    "    spearman, kendall = get_correlations(tournaments_rating_true, tournaments_rating_pred)\n",
    "    spearman_corrs.append(spearman)\n",
    "    kendall_corrs.append(kendall)\n",
    "    print(f'{i+1} out of {n}')"
   ]
  },
  {
   "cell_type": "code",
   "execution_count": 132,
   "metadata": {},
   "outputs": [
    {
     "data": {
      "text/plain": [
       "[<matplotlib.lines.Line2D at 0x1a8d2065d0>]"
      ]
     },
     "execution_count": 132,
     "metadata": {},
     "output_type": "execute_result"
    },
    {
     "data": {
      "image/png": "[encoded data removed]",
      "text/plain": [
       "<Figure size 432x288 with 1 Axes>"
      ]
     },
     "metadata": {
      "needs_background": "light"
     },
     "output_type": "display_data"
    }
   ],
   "source": [
    "plt.title('spearman correlation')\n",
    "plt.plot(spearman_corrs)"
   ]
  },
  {
   "cell_type": "code",
   "execution_count": 133,
   "metadata": {},
   "outputs": [
    {
     "data": {
      "text/plain": [
       "[<matplotlib.lines.Line2D at 0x1a8d44f750>]"
      ]
     },
     "execution_count": 133,
     "metadata": {},
     "output_type": "execute_result"
    },
    {
     "data": {
      "image/png": "[encoded data removed]",
      "text/plain": [
       "<Figure size 432x288 with 1 Axes>"
      ]
     },
     "metadata": {
      "needs_background": "light"
     },
     "output_type": "display_data"
    }
   ],
   "source": [
    "plt.title('kendall correlation')\n",
    "plt.plot(kendall_corrs)"
   ]
  },
  {
   "cell_type": "code",
   "execution_count": 134,
   "metadata": {},
   "outputs": [],
   "source": [
    "question_rating = model_prob.w[len(member_to_idx) + 1:]\n",
    "rating = model_prob.w[1:len(member_to_idx) + 1]\n",
    "rating_list = []\n",
    "for idx, member in idx_to_members.items():\n",
    "    item = {\n",
    "        'score': rating[idx],\n",
    "        'id': member,\n",
    "        'name': players[member]['name'] + ' ' + players[member]['surname'],\n",
    "        'questions_count': member_answers[member],\n",
    "    }\n",
    "    rating_list.append(item)\n",
    "\n",
    "sorted_rating = sorted(rating_list, key=lambda x: x['score'], reverse=True)\n",
    "\n",
    "rating_all = pd.DataFrame(sorted_rating)\n",
    "rating_all['pred_pos'] = rating_all.index + 1\n",
    "rating = rating_all.loc[:100]"
   ]
  },
  {
   "cell_type": "code",
   "execution_count": 135,
   "metadata": {},
   "outputs": [
    {
     "name": "stderr",
     "output_type": "stream",
     "text": [
      "/Users/aqice/opt/anaconda3/lib/python3.7/site-packages/ipykernel_launcher.py:1: SettingWithCopyWarning: \n",
      "A value is trying to be set on a copy of a slice from a DataFrame.\n",
      "Try using .loc[row_indexer,col_indexer] = value instead\n",
      "\n",
      "See the caveats in the documentation: http://pandas.pydata.org/pandas-docs/stable/user_guide/indexing.html#returning-a-view-versus-a-copy\n",
      "  \"\"\"Entry point for launching an IPython kernel.\n"
     ]
    }
   ],
   "source": [
    "rating['actual_position'] = rating['id'].apply(get_position)"
   ]
  },
  {
   "cell_type": "code",
   "execution_count": 136,
   "metadata": {},
   "outputs": [
    {
     "data": {
      "text/plain": [
       "(66, 6)"
      ]
     },
     "execution_count": 136,
     "metadata": {},
     "output_type": "execute_result"
    }
   ],
   "source": [
    "rating[rating['actual_position'] <= 100].dropna().shape"
   ]
  },
  {
   "cell_type": "markdown",
   "metadata": {},
   "source": [
    "recall@100 for top is 66% ! Better results!"
   ]
  },
  {
   "cell_type": "code",
   "execution_count": 137,
   "metadata": {},
   "outputs": [
    {
     "name": "stderr",
     "output_type": "stream",
     "text": [
      "/Users/aqice/opt/anaconda3/lib/python3.7/site-packages/ipykernel_launcher.py:2: SettingWithCopyWarning: \n",
      "A value is trying to be set on a copy of a slice from a DataFrame.\n",
      "Try using .loc[row_indexer,col_indexer] = value instead\n",
      "\n",
      "See the caveats in the documentation: http://pandas.pydata.org/pandas-docs/stable/user_guide/indexing.html#returning-a-view-versus-a-copy\n",
      "  \n"
     ]
    },
    {
     "data": {
      "text/html": [
       "<div>\n",
       "<style scoped>\n",
       "    .dataframe tbody tr th:only-of-type {\n",
       "        vertical-align: middle;\n",
       "    }\n",
       "\n",
       "    .dataframe tbody tr th {\n",
       "        vertical-align: top;\n",
       "    }\n",
       "\n",
       "    .dataframe thead th {\n",
       "        text-align: right;\n",
       "    }\n",
       "</style>\n",
       "<table border=\"1\" class=\"dataframe\">\n",
       "  <thead>\n",
       "    <tr style=\"text-align: right;\">\n",
       "      <th></th>\n",
       "      <th>score</th>\n",
       "      <th>id</th>\n",
       "      <th>name</th>\n",
       "      <th>questions_count</th>\n",
       "      <th>pred_pos</th>\n",
       "      <th>actual_position</th>\n",
       "    </tr>\n",
       "  </thead>\n",
       "  <tbody>\n",
       "    <tr>\n",
       "      <td>30</td>\n",
       "      <td>4.586442</td>\n",
       "      <td>22799</td>\n",
       "      <td>Сергей Николенко</td>\n",
       "      <td>1806</td>\n",
       "      <td>31</td>\n",
       "      <td>10</td>\n",
       "    </tr>\n",
       "  </tbody>\n",
       "</table>\n",
       "</div>"
      ],
      "text/plain": [
       "       score     id              name  questions_count  pred_pos  \\\n",
       "30  4.586442  22799  Сергей Николенко             1806        31   \n",
       "\n",
       "    actual_position  \n",
       "30               10  "
      ]
     },
     "execution_count": 137,
     "metadata": {},
     "output_type": "execute_result"
    }
   ],
   "source": [
    "rating_boss = rating_all[rating_all['name'] == 'Сергей Николенко']\n",
    "rating_boss['actual_position'] = rating_boss['id'].apply(get_position)\n",
    "rating_boss"
   ]
  },
  {
   "cell_type": "code",
   "execution_count": 138,
   "metadata": {},
   "outputs": [
    {
     "data": {
      "text/plain": [
       "<matplotlib.legend.Legend at 0x1a8d33ed10>"
      ]
     },
     "execution_count": 138,
     "metadata": {},
     "output_type": "execute_result"
    },
    {
     "data": {
      "image/png": "[encoded data removed]",
      "text/plain": [
       "<Figure size 432x288 with 1 Axes>"
      ]
     },
     "metadata": {
      "needs_background": "light"
     },
     "output_type": "display_data"
    }
   ],
   "source": [
    "sns.distplot(rating_all['score'])\n",
    "plt.plot([rating_boss['score'].values[0]] * 2, [0, 0.25], label='Nikolenko pred rating')\n",
    "plt.legend()"
   ]
  },
  {
   "cell_type": "markdown",
   "metadata": {},
   "source": [
    "### Tournaments based on difficulty"
   ]
  },
  {
   "cell_type": "code",
   "execution_count": 146,
   "metadata": {},
   "outputs": [],
   "source": [
    "tournament_rating = dict()\n",
    "question_to_tour = dict()"
   ]
  },
  {
   "cell_type": "code",
   "execution_count": 147,
   "metadata": {},
   "outputs": [],
   "source": [
    "questions_count = 0\n",
    "question_rating = model_prob.w[1 + len(member_to_idx):]\n",
    "for tournament in tournaments_train:\n",
    "    tour_questions_count = len(tournament['teams'][0]['mask'])\n",
    "    start_index, end_index = questions_count, questions_count + tour_questions_count\n",
    "    tournament_rating[tournament['id']] = np.mean(question_rating[start_index: end_index])\n",
    "    \n",
    "    for q in range(tour_questions_count):\n",
    "        question_to_tour[questions_count + q] = {\n",
    "            'tournament_id': tournament['id'],\n",
    "            'tournament_name': tournaments[tournament['id']]['name'],\n",
    "            'question_num': q + 1,\n",
    "        }\n",
    "    questions_count += tour_questions_count\n",
    "    \n",
    "tournament_rating = sorted(tournament_rating.items(), key=lambda x: x[1])\n",
    "df_tournament_rating = pd.DataFrame(tournament_rating, columns=['id', 'rating'])\n",
    "df_tournament_rating['name'] = df_tournament_rating['id'].apply(lambda x: tournaments[x]['name'])"
   ]
  },
  {
   "cell_type": "code",
   "execution_count": 149,
   "metadata": {},
   "outputs": [
    {
     "data": {
      "text/plain": [
       "<matplotlib.axes._subplots.AxesSubplot at 0x1a8f65d9d0>"
      ]
     },
     "execution_count": 149,
     "metadata": {},
     "output_type": "execute_result"
    },
    {
     "data": {
      "image/png": "[encoded data removed]",
      "text/plain": [
       "<Figure size 432x288 with 1 Axes>"
      ]
     },
     "metadata": {
      "needs_background": "light"
     },
     "output_type": "display_data"
    }
   ],
   "source": [
    "sns.distplot(df_tournament_rating['rating'])"
   ]
  },
  {
   "cell_type": "code",
   "execution_count": 151,
   "metadata": {},
   "outputs": [
    {
     "data": {
      "text/html": [
       "<div>\n",
       "<style scoped>\n",
       "    .dataframe tbody tr th:only-of-type {\n",
       "        vertical-align: middle;\n",
       "    }\n",
       "\n",
       "    .dataframe tbody tr th {\n",
       "        vertical-align: top;\n",
       "    }\n",
       "\n",
       "    .dataframe thead th {\n",
       "        text-align: right;\n",
       "    }\n",
       "</style>\n",
       "<table border=\"1\" class=\"dataframe\">\n",
       "  <thead>\n",
       "    <tr style=\"text-align: right;\">\n",
       "      <th></th>\n",
       "      <th>id</th>\n",
       "      <th>rating</th>\n",
       "      <th>name</th>\n",
       "    </tr>\n",
       "  </thead>\n",
       "  <tbody>\n",
       "    <tr>\n",
       "      <td>0</td>\n",
       "      <td>6149</td>\n",
       "      <td>-4.511007</td>\n",
       "      <td>Чемпионат Санкт-Петербурга. Первая лига</td>\n",
       "    </tr>\n",
       "    <tr>\n",
       "      <td>1</td>\n",
       "      <td>5025</td>\n",
       "      <td>-2.655131</td>\n",
       "      <td>Кубок городов</td>\n",
       "    </tr>\n",
       "    <tr>\n",
       "      <td>2</td>\n",
       "      <td>5928</td>\n",
       "      <td>-2.625088</td>\n",
       "      <td>Угрюмый Ёрш</td>\n",
       "    </tr>\n",
       "    <tr>\n",
       "      <td>3</td>\n",
       "      <td>5159</td>\n",
       "      <td>-2.523994</td>\n",
       "      <td>Первенство правого полушария</td>\n",
       "    </tr>\n",
       "    <tr>\n",
       "      <td>4</td>\n",
       "      <td>6101</td>\n",
       "      <td>-2.115784</td>\n",
       "      <td>Воображаемый музей</td>\n",
       "    </tr>\n",
       "    <tr>\n",
       "      <td>5</td>\n",
       "      <td>5098</td>\n",
       "      <td>-2.056324</td>\n",
       "      <td>Ра-II: синхрон \"Борского корабела\"</td>\n",
       "    </tr>\n",
       "    <tr>\n",
       "      <td>6</td>\n",
       "      <td>5741</td>\n",
       "      <td>-2.017835</td>\n",
       "      <td>All Cats Are Beautiful</td>\n",
       "    </tr>\n",
       "    <tr>\n",
       "      <td>7</td>\n",
       "      <td>5186</td>\n",
       "      <td>-2.011466</td>\n",
       "      <td>VERSUS: Коробейников vs. Матвеев</td>\n",
       "    </tr>\n",
       "    <tr>\n",
       "      <td>8</td>\n",
       "      <td>5587</td>\n",
       "      <td>-2.003211</td>\n",
       "      <td>Записки охотника</td>\n",
       "    </tr>\n",
       "    <tr>\n",
       "      <td>9</td>\n",
       "      <td>5083</td>\n",
       "      <td>-1.944208</td>\n",
       "      <td>Ускользающая сова</td>\n",
       "    </tr>\n",
       "  </tbody>\n",
       "</table>\n",
       "</div>"
      ],
      "text/plain": [
       "     id    rating                                     name\n",
       "0  6149 -4.511007  Чемпионат Санкт-Петербурга. Первая лига\n",
       "1  5025 -2.655131                            Кубок городов\n",
       "2  5928 -2.625088                              Угрюмый Ёрш\n",
       "3  5159 -2.523994             Первенство правого полушария\n",
       "4  6101 -2.115784                       Воображаемый музей\n",
       "5  5098 -2.056324       Ра-II: синхрон \"Борского корабела\"\n",
       "6  5741 -2.017835                   All Cats Are Beautiful\n",
       "7  5186 -2.011466         VERSUS: Коробейников vs. Матвеев\n",
       "8  5587 -2.003211                         Записки охотника\n",
       "9  5083 -1.944208                        Ускользающая сова"
      ]
     },
     "execution_count": 151,
     "metadata": {},
     "output_type": "execute_result"
    }
   ],
   "source": [
    "df_tournament_rating.head(10)"
   ]
  },
  {
   "cell_type": "code",
   "execution_count": 152,
   "metadata": {},
   "outputs": [
    {
     "data": {
      "text/html": [
       "<div>\n",
       "<style scoped>\n",
       "    .dataframe tbody tr th:only-of-type {\n",
       "        vertical-align: middle;\n",
       "    }\n",
       "\n",
       "    .dataframe tbody tr th {\n",
       "        vertical-align: top;\n",
       "    }\n",
       "\n",
       "    .dataframe thead th {\n",
       "        text-align: right;\n",
       "    }\n",
       "</style>\n",
       "<table border=\"1\" class=\"dataframe\">\n",
       "  <thead>\n",
       "    <tr style=\"text-align: right;\">\n",
       "      <th></th>\n",
       "      <th>id</th>\n",
       "      <th>rating</th>\n",
       "      <th>name</th>\n",
       "    </tr>\n",
       "  </thead>\n",
       "  <tbody>\n",
       "    <tr>\n",
       "      <td>594</td>\n",
       "      <td>5130</td>\n",
       "      <td>2.211052</td>\n",
       "      <td>Лига Сибири. VI тур.</td>\n",
       "    </tr>\n",
       "    <tr>\n",
       "      <td>595</td>\n",
       "      <td>5704</td>\n",
       "      <td>2.296670</td>\n",
       "      <td>(а)Синхрон-lite. Лига старта. Эпизод X</td>\n",
       "    </tr>\n",
       "    <tr>\n",
       "      <td>596</td>\n",
       "      <td>5012</td>\n",
       "      <td>2.303775</td>\n",
       "      <td>Школьный Синхрон-lite. Выпуск 2.5</td>\n",
       "    </tr>\n",
       "    <tr>\n",
       "      <td>597</td>\n",
       "      <td>5313</td>\n",
       "      <td>2.373549</td>\n",
       "      <td>(а)Синхрон-lite. Лига старта. Эпизод VI</td>\n",
       "    </tr>\n",
       "    <tr>\n",
       "      <td>598</td>\n",
       "      <td>5011</td>\n",
       "      <td>2.434734</td>\n",
       "      <td>(а)Синхрон-lite. Лига старта. Эпизод IV</td>\n",
       "    </tr>\n",
       "    <tr>\n",
       "      <td>599</td>\n",
       "      <td>5729</td>\n",
       "      <td>2.528464</td>\n",
       "      <td>Синхрон-lite. Выпуск XXX</td>\n",
       "    </tr>\n",
       "    <tr>\n",
       "      <td>600</td>\n",
       "      <td>5698</td>\n",
       "      <td>2.692943</td>\n",
       "      <td>(а)Синхрон-lite. Лига старта. Эпизод VII</td>\n",
       "    </tr>\n",
       "    <tr>\n",
       "      <td>601</td>\n",
       "      <td>5702</td>\n",
       "      <td>2.796130</td>\n",
       "      <td>(а)Синхрон-lite. Лига старта. Эпизод IX</td>\n",
       "    </tr>\n",
       "    <tr>\n",
       "      <td>602</td>\n",
       "      <td>5009</td>\n",
       "      <td>2.892319</td>\n",
       "      <td>(а)Синхрон-lite. Лига старта. Эпизод III</td>\n",
       "    </tr>\n",
       "    <tr>\n",
       "      <td>603</td>\n",
       "      <td>5013</td>\n",
       "      <td>3.096187</td>\n",
       "      <td>(а)Синхрон-lite. Лига старта. Эпизод V</td>\n",
       "    </tr>\n",
       "  </tbody>\n",
       "</table>\n",
       "</div>"
      ],
      "text/plain": [
       "       id    rating                                      name\n",
       "594  5130  2.211052                      Лига Сибири. VI тур.\n",
       "595  5704  2.296670    (а)Синхрон-lite. Лига старта. Эпизод X\n",
       "596  5012  2.303775         Школьный Синхрон-lite. Выпуск 2.5\n",
       "597  5313  2.373549   (а)Синхрон-lite. Лига старта. Эпизод VI\n",
       "598  5011  2.434734   (а)Синхрон-lite. Лига старта. Эпизод IV\n",
       "599  5729  2.528464                  Синхрон-lite. Выпуск XXX\n",
       "600  5698  2.692943  (а)Синхрон-lite. Лига старта. Эпизод VII\n",
       "601  5702  2.796130   (а)Синхрон-lite. Лига старта. Эпизод IX\n",
       "602  5009  2.892319  (а)Синхрон-lite. Лига старта. Эпизод III\n",
       "603  5013  3.096187    (а)Синхрон-lite. Лига старта. Эпизод V"
      ]
     },
     "execution_count": 152,
     "metadata": {},
     "output_type": "execute_result"
    }
   ],
   "source": [
    "df_tournament_rating.tail(10)"
   ]
  }
 ],
 "metadata": {
  "kernelspec": {
   "display_name": "Python 3",
   "language": "python",
   "name": "python3"
  },
  "language_info": {
   "codemirror_mode": {
    "name": "ipython",
    "version": 3
   },
   "file_extension": ".py",
   "mimetype": "text/x-python",
   "name": "python",
   "nbconvert_exporter": "python",
   "pygments_lexer": "ipython3",
   "version": "3.7.4"
  }
 },
 "nbformat": 4,
 "nbformat_minor": 2
}
